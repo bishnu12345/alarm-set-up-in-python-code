{
 "cells": [
  {
   "cell_type": "code",
   "execution_count": 13,
   "metadata": {},
   "outputs": [
    {
     "ename": "TclError",
     "evalue": "bad geometry specifier \"100*100\"",
     "output_type": "error",
     "traceback": [
      "\u001b[1;31m---------------------------------------------------------------------------\u001b[0m",
      "\u001b[1;31mTclError\u001b[0m                                  Traceback (most recent call last)",
      "\u001b[1;32m<ipython-input-13-f1fc0db9a29e>\u001b[0m in \u001b[0;36m<module>\u001b[1;34m\u001b[0m\n\u001b[0;32m     22\u001b[0m \u001b[0mclock\u001b[0m\u001b[1;33m=\u001b[0m\u001b[0mTk\u001b[0m\u001b[1;33m(\u001b[0m\u001b[1;33m)\u001b[0m\u001b[1;33m\u001b[0m\u001b[1;33m\u001b[0m\u001b[0m\n\u001b[0;32m     23\u001b[0m \u001b[0mclock\u001b[0m\u001b[1;33m.\u001b[0m\u001b[0mtitle\u001b[0m\u001b[1;33m(\u001b[0m\u001b[1;34m\"Dataflair Alarm Clock \"\u001b[0m\u001b[1;33m)\u001b[0m\u001b[1;33m\u001b[0m\u001b[1;33m\u001b[0m\u001b[0m\n\u001b[1;32m---> 24\u001b[1;33m \u001b[0mclock\u001b[0m\u001b[1;33m.\u001b[0m\u001b[0mgeometry\u001b[0m\u001b[1;33m(\u001b[0m\u001b[1;34m\"100*100\"\u001b[0m\u001b[1;33m)\u001b[0m\u001b[1;33m\u001b[0m\u001b[1;33m\u001b[0m\u001b[0m\n\u001b[0m\u001b[0;32m     25\u001b[0m \u001b[0mtime_format\u001b[0m\u001b[1;33m=\u001b[0m\u001b[0mLabel\u001b[0m\u001b[1;33m(\u001b[0m\u001b[0mclock\u001b[0m\u001b[1;33m,\u001b[0m\u001b[0mtext\u001b[0m\u001b[1;33m=\u001b[0m\u001b[1;34m\"Enter time in 24 hour format!\"\u001b[0m\u001b[1;33m,\u001b[0m\u001b[0mfg\u001b[0m\u001b[1;33m=\u001b[0m\u001b[1;34m\"red\"\u001b[0m\u001b[1;33m,\u001b[0m\u001b[0mbg\u001b[0m\u001b[1;33m=\u001b[0m\u001b[1;34m\"black\"\u001b[0m\u001b[1;33m,\u001b[0m\u001b[0mfont\u001b[0m\u001b[1;33m=\u001b[0m\u001b[1;34m\"Arial\"\u001b[0m\u001b[1;33m)\u001b[0m\u001b[1;33m.\u001b[0m\u001b[0mplace\u001b[0m\u001b[1;33m(\u001b[0m\u001b[0mx\u001b[0m\u001b[1;33m=\u001b[0m\u001b[1;36m60\u001b[0m\u001b[1;33m,\u001b[0m\u001b[0my\u001b[0m\u001b[1;33m=\u001b[0m\u001b[1;36m120\u001b[0m\u001b[1;33m)\u001b[0m\u001b[1;33m\u001b[0m\u001b[1;33m\u001b[0m\u001b[0m\n\u001b[0;32m     26\u001b[0m \u001b[0maddTime\u001b[0m\u001b[1;33m=\u001b[0m\u001b[0mLabel\u001b[0m\u001b[1;33m(\u001b[0m\u001b[0mclock\u001b[0m\u001b[1;33m,\u001b[0m\u001b[0mtext\u001b[0m\u001b[1;33m=\u001b[0m\u001b[1;34m\"Hour Min Sec\"\u001b[0m\u001b[1;33m,\u001b[0m\u001b[0mfon\u001b[0m\u001b[1;33m=\u001b[0m\u001b[1;36m60\u001b[0m\u001b[1;33m)\u001b[0m\u001b[1;33m.\u001b[0m\u001b[0mplace\u001b[0m\u001b[1;33m(\u001b[0m\u001b[0mx\u001b[0m\u001b[1;33m=\u001b[0m\u001b[1;36m110\u001b[0m\u001b[1;33m)\u001b[0m\u001b[1;33m\u001b[0m\u001b[1;33m\u001b[0m\u001b[0m\n",
      "\u001b[1;32m~\\anaconda\\lib\\tkinter\\__init__.py\u001b[0m in \u001b[0;36mwm_geometry\u001b[1;34m(self, newGeometry)\u001b[0m\n\u001b[0;32m   1839\u001b[0m         \"\"\"Set geometry to NEWGEOMETRY of the form =widthxheight+x+y. Return\n\u001b[0;32m   1840\u001b[0m         current value if None is given.\"\"\"\n\u001b[1;32m-> 1841\u001b[1;33m         \u001b[1;32mreturn\u001b[0m \u001b[0mself\u001b[0m\u001b[1;33m.\u001b[0m\u001b[0mtk\u001b[0m\u001b[1;33m.\u001b[0m\u001b[0mcall\u001b[0m\u001b[1;33m(\u001b[0m\u001b[1;34m'wm'\u001b[0m\u001b[1;33m,\u001b[0m \u001b[1;34m'geometry'\u001b[0m\u001b[1;33m,\u001b[0m \u001b[0mself\u001b[0m\u001b[1;33m.\u001b[0m\u001b[0m_w\u001b[0m\u001b[1;33m,\u001b[0m \u001b[0mnewGeometry\u001b[0m\u001b[1;33m)\u001b[0m\u001b[1;33m\u001b[0m\u001b[1;33m\u001b[0m\u001b[0m\n\u001b[0m\u001b[0;32m   1842\u001b[0m     \u001b[0mgeometry\u001b[0m \u001b[1;33m=\u001b[0m \u001b[0mwm_geometry\u001b[0m\u001b[1;33m\u001b[0m\u001b[1;33m\u001b[0m\u001b[0m\n\u001b[0;32m   1843\u001b[0m     def wm_grid(self,\n",
      "\u001b[1;31mTclError\u001b[0m: bad geometry specifier \"100*100\""
     ]
    }
   ],
   "source": [
    "from tkinter import *\n",
    "import datetime\n",
    "import time\n",
    "import winsound\n",
    "\n",
    "def alarm(set_alarm_timer):\n",
    "    while True:\n",
    "        time.sleep(1)\n",
    "        current_time=datetime.datetime.now()\n",
    "        now=current_time.strftime(\"%H:%M:%S\")\n",
    "        date=current_time.strftime(\"%d:%m:%y\")\n",
    "        print(\"The set date is :\",date)\n",
    "        print(now)\n",
    "        if now==set_alarm_timer:\n",
    "            print(\"Time to wake up \")\n",
    "        winsound.playsound(\"Sound.Wake up \")\n",
    "        break\n",
    "def actual_time():\n",
    "    set_alarm_timer=f\"{hour.get()}:{min.get()}:{sec.get()}\"\n",
    "    alarm(set_alarm_timer)\n",
    "\n",
    "clock=Tk()\n",
    "clock.title(\"Dataflair Alarm Clock \")\n",
    "clock.geometry(\"100*100\")\n",
    "time_format=Label(clock,text=\"Enter time in 24 hour format!\",fg=\"red\",bg=\"black\",font=\"Arial\").place(x=60,y=120)\n",
    "addTime=Label(clock,text=\"Hour Min Sec\",fon=60).place(x=110)\n",
    "setYourAlarm=Label(clock,tclock=tk())\n",
    "clock.title(\"DataFlair Alarm Clock\")\n",
    "clock.geometry(\"100*100\")\n",
    "time_format=Label(clock,text=\"Enter time in 24 hour format !\",fg=\"red\",bg=\"black\", font=\"Arial\").place(x=60,y=120)\n",
    "addTime=Label(clock,text=\"Hour Min Sec\",fon=60).place(x=110)\n",
    "setYourAlarm=Label(clock,text=\"When to wake you up \",fg=\"blue\",relief=\"solid\",font=(\"Helevetica\",7,\"bold\")).place(x=0,y=29)\n",
    "hour=StringVar()\n",
    "min=StringVar()\n",
    "sec=StringVar()\n",
    "hourTime=Entry(clock,textvariable=hour,bg=\"pink\",width=15).place(x=110,y=30)\n",
    "minTime=Entry(clock,textvariable=min,bg=\"pink\",width=15).place(x=110,y=30)\n",
    "secTime=Entry(clock,textvariable=sec,bg=\"pink\",width=15).place(x=110,y=30)\n",
    "submit=Button(clock,text=\"Set Alarm\",fg=\"red\",width=10,command=actual_time).place(x=110,y=70)\n",
    "clock.mainloop()\n",
    "                                                                                                                  "
   ]
  },
  {
   "cell_type": "code",
   "execution_count": null,
   "metadata": {},
   "outputs": [],
   "source": []
  }
 ],
 "metadata": {
  "kernelspec": {
   "display_name": "Python 3",
   "language": "python",
   "name": "python3"
  },
  "language_info": {
   "codemirror_mode": {
    "name": "ipython",
    "version": 3
   },
   "file_extension": ".py",
   "mimetype": "text/x-python",
   "name": "python",
   "nbconvert_exporter": "python",
   "pygments_lexer": "ipython3",
   "version": "3.7.4"
  }
 },
 "nbformat": 4,
 "nbformat_minor": 2
}
